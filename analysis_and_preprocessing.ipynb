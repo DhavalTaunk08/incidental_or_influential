{
  "nbformat": 4,
  "nbformat_minor": 0,
  "metadata": {
    "colab": {
      "name": "incidental_or_influential.ipynb",
      "provenance": [],
      "collapsed_sections": []
    },
    "kernelspec": {
      "name": "python3",
      "display_name": "Python 3"
    },
    "language_info": {
      "name": "python"
    }
  },
  "cells": [
    {
      "cell_type": "code",
      "metadata": {
        "id": "sqtHOAy7GaTr"
      },
      "source": [
        "import pandas as pd\n",
        "import numpy as np\n",
        "from matplotlib import pyplot as plt\n",
        "import seaborn as sns\n",
        "from tqdm import tqdm\n",
        "sns.set_style('darkgrid', {'legend.frameon':True})\n",
        "%matplotlib inline"
      ],
      "execution_count": null,
      "outputs": []
    },
    {
      "cell_type": "code",
      "metadata": {
        "id": "Xnbvn8UpGsm6"
      },
      "source": [
        "data = pd.read_csv('/content/drive/MyDrive/incidental_or_influential/data/SDP_train.csv')"
      ],
      "execution_count": null,
      "outputs": []
    },
    {
      "cell_type": "code",
      "metadata": {
        "colab": {
          "base_uri": "https://localhost:8080/"
        },
        "id": "6LJWTAGfHd74",
        "outputId": "347d12a6-6483-4a81-efc7-bf82dcf40c2c"
      },
      "source": [
        "data.shape"
      ],
      "execution_count": null,
      "outputs": [
        {
          "output_type": "execute_result",
          "data": {
            "text/plain": [
              "(3000, 8)"
            ]
          },
          "metadata": {},
          "execution_count": 3
        }
      ]
    },
    {
      "cell_type": "code",
      "metadata": {
        "colab": {
          "base_uri": "https://localhost:8080/",
          "height": 374
        },
        "id": "M_R3InYcHgrm",
        "outputId": "7c988166-cf5b-47df-ae8c-353ecd8a9b29"
      },
      "source": [
        "data.head()"
      ],
      "execution_count": null,
      "outputs": [
        {
          "output_type": "execute_result",
          "data": {
            "text/html": [
              "<div>\n",
              "<style scoped>\n",
              "    .dataframe tbody tr th:only-of-type {\n",
              "        vertical-align: middle;\n",
              "    }\n",
              "\n",
              "    .dataframe tbody tr th {\n",
              "        vertical-align: top;\n",
              "    }\n",
              "\n",
              "    .dataframe thead th {\n",
              "        text-align: right;\n",
              "    }\n",
              "</style>\n",
              "<table border=\"1\" class=\"dataframe\">\n",
              "  <thead>\n",
              "    <tr style=\"text-align: right;\">\n",
              "      <th></th>\n",
              "      <th>unique_id</th>\n",
              "      <th>core_id</th>\n",
              "      <th>citing_title</th>\n",
              "      <th>citing_author</th>\n",
              "      <th>cited_title</th>\n",
              "      <th>cited_author</th>\n",
              "      <th>citation_context</th>\n",
              "      <th>citation_influence_label</th>\n",
              "    </tr>\n",
              "  </thead>\n",
              "  <tbody>\n",
              "    <tr>\n",
              "      <th>0</th>\n",
              "      <td>CC1</td>\n",
              "      <td>158977742</td>\n",
              "      <td>Ontology-Based Recommendation of Editorial Pro...</td>\n",
              "      <td>Thiviyan Thanapalasingam</td>\n",
              "      <td>Web search personalization with ontological us...</td>\n",
              "      <td>Sieg</td>\n",
              "      <td>They usually generate user models that describ...</td>\n",
              "      <td>0</td>\n",
              "    </tr>\n",
              "    <tr>\n",
              "      <th>1</th>\n",
              "      <td>CC2</td>\n",
              "      <td>158977742</td>\n",
              "      <td>Ontology-Based Recommendation of Editorial Pro...</td>\n",
              "      <td>Thiviyan Thanapalasingam</td>\n",
              "      <td>Exploring Scholarly Data with Rexplore</td>\n",
              "      <td>Osborne</td>\n",
              "      <td>The Computer Science Ontology (CSO)[3]is a lar...</td>\n",
              "      <td>0</td>\n",
              "    </tr>\n",
              "    <tr>\n",
              "      <th>2</th>\n",
              "      <td>CC3</td>\n",
              "      <td>158977742</td>\n",
              "      <td>Ontology-Based Recommendation of Editorial Pro...</td>\n",
              "      <td>Thiviyan Thanapalasingam</td>\n",
              "      <td>Klink-2: Integrating Multiple Web Sources to G...</td>\n",
              "      <td>Osborne</td>\n",
              "      <td>In order to do so, we characterized all SN pub...</td>\n",
              "      <td>0</td>\n",
              "    </tr>\n",
              "    <tr>\n",
              "      <th>3</th>\n",
              "      <td>CC4</td>\n",
              "      <td>158977742</td>\n",
              "      <td>Ontology-Based Recommendation of Editorial Pro...</td>\n",
              "      <td>Thiviyan Thanapalasingam</td>\n",
              "      <td>Forecasting the Spreading of Technologies in R...</td>\n",
              "      <td>Osborne</td>\n",
              "      <td>This API supports a number of applications, in...</td>\n",
              "      <td>1</td>\n",
              "    </tr>\n",
              "    <tr>\n",
              "      <th>4</th>\n",
              "      <td>CC5</td>\n",
              "      <td>158977742</td>\n",
              "      <td>Ontology-Based Recommendation of Editorial Pro...</td>\n",
              "      <td>Thiviyan Thanapalasingam</td>\n",
              "      <td>Supporting Springer Nature Editors by means of...</td>\n",
              "      <td>Osborne</td>\n",
              "      <td>It works according to three main steps:1) It r...</td>\n",
              "      <td>1</td>\n",
              "    </tr>\n",
              "  </tbody>\n",
              "</table>\n",
              "</div>"
            ],
            "text/plain": [
              "  unique_id  ...  citation_influence_label\n",
              "0       CC1  ...                         0\n",
              "1       CC2  ...                         0\n",
              "2       CC3  ...                         0\n",
              "3       CC4  ...                         1\n",
              "4       CC5  ...                         1\n",
              "\n",
              "[5 rows x 8 columns]"
            ]
          },
          "metadata": {},
          "execution_count": 4
        }
      ]
    },
    {
      "cell_type": "code",
      "metadata": {
        "colab": {
          "base_uri": "https://localhost:8080/",
          "height": 330
        },
        "id": "NA-uJg0YHh1X",
        "outputId": "aa4793ac-117a-4b35-ff22-9eef26969741"
      },
      "source": [
        "print(data['citation_influence_label'].value_counts())\n",
        "data['citation_influence_label'].value_counts().plot(kind='bar')"
      ],
      "execution_count": null,
      "outputs": [
        {
          "output_type": "stream",
          "name": "stdout",
          "text": [
            "0    1568\n",
            "1    1432\n",
            "Name: citation_influence_label, dtype: int64\n"
          ]
        },
        {
          "output_type": "execute_result",
          "data": {
            "text/plain": [
              "<matplotlib.axes._subplots.AxesSubplot at 0x7f2854727dd0>"
            ]
          },
          "metadata": {},
          "execution_count": 5
        },
        {
          "output_type": "display_data",
          "data": {
            "image/png": "[encoded data removed]",
            "text/plain": [
              "<Figure size 432x288 with 1 Axes>"
            ]
          },
          "metadata": {
            "needs_background": "light"
          }
        }
      ]
    },
    {
      "cell_type": "code",
      "metadata": {
        "id": "I3Esi1P8IBPy"
      },
      "source": [
        "text_len = [len(txt.split()) for txt in data['citation_context']]"
      ],
      "execution_count": null,
      "outputs": []
    },
    {
      "cell_type": "code",
      "metadata": {
        "colab": {
          "base_uri": "https://localhost:8080/",
          "height": 386
        },
        "id": "ypEXNmUGJfDo",
        "outputId": "bf207230-9da8-41ba-cb0c-4e666068355c"
      },
      "source": [
        "sns.displot(text_len, binwidth=5)"
      ],
      "execution_count": null,
      "outputs": [
        {
          "output_type": "execute_result",
          "data": {
            "text/plain": [
              "<seaborn.axisgrid.FacetGrid at 0x7f28541e0310>"
            ]
          },
          "metadata": {},
          "execution_count": 7
        },
        {
          "output_type": "display_data",
          "data": {
            "image/png": "[encoded data removed]",
            "text/plain": [
              "<Figure size 360x360 with 1 Axes>"
            ]
          },
          "metadata": {
            "needs_background": "light"
          }
        }
      ]
    },
    {
      "cell_type": "code",
      "metadata": {
        "colab": {
          "base_uri": "https://localhost:8080/",
          "height": 386
        },
        "id": "470wZEm_Jo12",
        "outputId": "1c73c776-ec81-4b54-bf72-a77205058aa7"
      },
      "source": [
        "data_1 = data[data['citation_influence_label']==1]\n",
        "text_len1 = [len(txt.split()) for txt in data_1['citation_context']]\n",
        "sns.displot(text_len1, binwidth=5)"
      ],
      "execution_count": null,
      "outputs": [
        {
          "output_type": "execute_result",
          "data": {
            "text/plain": [
              "<seaborn.axisgrid.FacetGrid at 0x7f284a200110>"
            ]
          },
          "metadata": {},
          "execution_count": 8
        },
        {
          "output_type": "display_data",
          "data": {
            "image/png": "[encoded data removed]",
            "text/plain": [
              "<Figure size 360x360 with 1 Axes>"
            ]
          },
          "metadata": {
            "needs_background": "light"
          }
        }
      ]
    },
    {
      "cell_type": "code",
      "metadata": {
        "colab": {
          "base_uri": "https://localhost:8080/",
          "height": 386
        },
        "id": "V5XruFm0KjsZ",
        "outputId": "6450c1fa-018b-4e32-d137-bc25eed487d8"
      },
      "source": [
        "data_0 = data[data['citation_influence_label']==0]\n",
        "text_len0 = [len(txt.split()) for txt in data_0['citation_context']]\n",
        "sns.displot(text_len0, binwidth=5)"
      ],
      "execution_count": null,
      "outputs": [
        {
          "output_type": "execute_result",
          "data": {
            "text/plain": [
              "<seaborn.axisgrid.FacetGrid at 0x7f2853cd8d50>"
            ]
          },
          "metadata": {},
          "execution_count": 9
        },
        {
          "output_type": "display_data",
          "data": {
            "image/png": "[encoded data removed]",
            "text/plain": [
              "<Figure size 360x360 with 1 Axes>"
            ]
          },
          "metadata": {
            "needs_background": "light"
          }
        }
      ]
    },
    {
      "cell_type": "code",
      "metadata": {
        "colab": {
          "base_uri": "https://localhost:8080/",
          "height": 408
        },
        "id": "79mUR6NWLHWH",
        "outputId": "d25064ae-a317-4835-db42-78c9641d6db3"
      },
      "source": [
        "pd.set_option('display.max_colwidth', None)\n",
        "data[['citing_title', 'cited_title', 'citation_context', 'citation_influence_label']].head(5)"
      ],
      "execution_count": null,
      "outputs": [
        {
          "output_type": "execute_result",
          "data": {
            "text/html": [
              "<div>\n",
              "<style scoped>\n",
              "    .dataframe tbody tr th:only-of-type {\n",
              "        vertical-align: middle;\n",
              "    }\n",
              "\n",
              "    .dataframe tbody tr th {\n",
              "        vertical-align: top;\n",
              "    }\n",
              "\n",
              "    .dataframe thead th {\n",
              "        text-align: right;\n",
              "    }\n",
              "</style>\n",
              "<table border=\"1\" class=\"dataframe\">\n",
              "  <thead>\n",
              "    <tr style=\"text-align: right;\">\n",
              "      <th></th>\n",
              "      <th>citing_title</th>\n",
              "      <th>cited_title</th>\n",
              "      <th>citation_context</th>\n",
              "      <th>citation_influence_label</th>\n",
              "    </tr>\n",
              "  </thead>\n",
              "  <tbody>\n",
              "    <tr>\n",
              "      <th>0</th>\n",
              "      <td>Ontology-Based Recommendation of Editorial Products</td>\n",
              "      <td>Web search personalization with ontological user profiles</td>\n",
              "      <td>They usually generate user models that describe user interests according to a set of features #AUTHOR_TAG</td>\n",
              "      <td>0</td>\n",
              "    </tr>\n",
              "    <tr>\n",
              "      <th>1</th>\n",
              "      <td>Ontology-Based Recommendation of Editorial Products</td>\n",
              "      <td>Exploring Scholarly Data with Rexplore</td>\n",
              "      <td>The Computer Science Ontology (CSO)[3]is a large-scale and granular ontology of research topics that was created automatically by running the Klink-2 algorithm [1]on the Rexplore dataset #AUTHOR_TAG.</td>\n",
              "      <td>0</td>\n",
              "    </tr>\n",
              "    <tr>\n",
              "      <th>2</th>\n",
              "      <td>Ontology-Based Recommendation of Editorial Products</td>\n",
              "      <td>Klink-2: Integrating Multiple Web Sources to Generate Semantic Topic Networks</td>\n",
              "      <td>In order to do so, we characterized all SN publications according to their associated research topics by exploiting the Computer Science Ontology (CSO), a large-scale automatically generated taxonomy of research areas #AUTHOR_TAG</td>\n",
              "      <td>0</td>\n",
              "    </tr>\n",
              "    <tr>\n",
              "      <th>3</th>\n",
              "      <td>Ontology-Based Recommendation of Editorial Products</td>\n",
              "      <td>Forecasting the Spreading of Technologies in Research Communities</td>\n",
              "      <td>This API supports a number of applications, including Smart Book Recommender, Smart Topic Miner [5], the Technology-Topic Framework #AUTHOR_TAG, a system that forecasts the propagation of technologies across research communities, and the Pragmatic Ontology Evolution Framework [7], an approach to ontology evolution that is able to select new concepts on the basis of their contribution to specific computational tasks</td>\n",
              "      <td>1</td>\n",
              "    </tr>\n",
              "    <tr>\n",
              "      <th>4</th>\n",
              "      <td>Ontology-Based Recommendation of Editorial Products</td>\n",
              "      <td>Supporting Springer Nature Editors by means of Semantic Technologies</td>\n",
              "      <td>It works according to three main steps:1) It represents journals, books, and conferences according to the metadata of their chapters/articles and uses the Smart Topic API #AUTHOR_TAG to characterize each of them with a semantically enhanced topic vector</td>\n",
              "      <td>1</td>\n",
              "    </tr>\n",
              "  </tbody>\n",
              "</table>\n",
              "</div>"
            ],
            "text/plain": [
              "                                          citing_title  ... citation_influence_label\n",
              "0  Ontology-Based Recommendation of Editorial Products  ...                        0\n",
              "1  Ontology-Based Recommendation of Editorial Products  ...                        0\n",
              "2  Ontology-Based Recommendation of Editorial Products  ...                        0\n",
              "3  Ontology-Based Recommendation of Editorial Products  ...                        1\n",
              "4  Ontology-Based Recommendation of Editorial Products  ...                        1\n",
              "\n",
              "[5 rows x 4 columns]"
            ]
          },
          "metadata": {},
          "execution_count": 10
        }
      ]
    },
    {
      "cell_type": "code",
      "metadata": {
        "id": "wLlqrWR1L9Cu"
      },
      "source": [
        "data['merged_text'] = data['citing_title'] + '. ' + data['cited_title'] + '. ' + data['citation_context']"
      ],
      "execution_count": null,
      "outputs": []
    },
    {
      "cell_type": "code",
      "metadata": {
        "colab": {
          "base_uri": "https://localhost:8080/",
          "height": 357
        },
        "id": "BMJ5FVXOOzHU",
        "outputId": "9da065e4-6d52-401e-fcaf-fc7d5f814775"
      },
      "source": [
        "data[['merged_text', 'citation_influence_label']].head(5)"
      ],
      "execution_count": null,
      "outputs": [
        {
          "output_type": "execute_result",
          "data": {
            "text/html": [
              "<div>\n",
              "<style scoped>\n",
              "    .dataframe tbody tr th:only-of-type {\n",
              "        vertical-align: middle;\n",
              "    }\n",
              "\n",
              "    .dataframe tbody tr th {\n",
              "        vertical-align: top;\n",
              "    }\n",
              "\n",
              "    .dataframe thead th {\n",
              "        text-align: right;\n",
              "    }\n",
              "</style>\n",
              "<table border=\"1\" class=\"dataframe\">\n",
              "  <thead>\n",
              "    <tr style=\"text-align: right;\">\n",
              "      <th></th>\n",
              "      <th>merged_text</th>\n",
              "      <th>citation_influence_label</th>\n",
              "    </tr>\n",
              "  </thead>\n",
              "  <tbody>\n",
              "    <tr>\n",
              "      <th>0</th>\n",
              "      <td>Ontology-Based Recommendation of Editorial Products. Web search personalization with ontological user profiles. They usually generate user models that describe user interests according to a set of features #AUTHOR_TAG</td>\n",
              "      <td>0</td>\n",
              "    </tr>\n",
              "    <tr>\n",
              "      <th>1</th>\n",
              "      <td>Ontology-Based Recommendation of Editorial Products. Exploring Scholarly Data with Rexplore. The Computer Science Ontology (CSO)[3]is a large-scale and granular ontology of research topics that was created automatically by running the Klink-2 algorithm [1]on the Rexplore dataset #AUTHOR_TAG.</td>\n",
              "      <td>0</td>\n",
              "    </tr>\n",
              "    <tr>\n",
              "      <th>2</th>\n",
              "      <td>Ontology-Based Recommendation of Editorial Products. Klink-2: Integrating Multiple Web Sources to Generate Semantic Topic Networks. In order to do so, we characterized all SN publications according to their associated research topics by exploiting the Computer Science Ontology (CSO), a large-scale automatically generated taxonomy of research areas #AUTHOR_TAG</td>\n",
              "      <td>0</td>\n",
              "    </tr>\n",
              "    <tr>\n",
              "      <th>3</th>\n",
              "      <td>Ontology-Based Recommendation of Editorial Products. Forecasting the Spreading of Technologies in Research Communities. This API supports a number of applications, including Smart Book Recommender, Smart Topic Miner [5], the Technology-Topic Framework #AUTHOR_TAG, a system that forecasts the propagation of technologies across research communities, and the Pragmatic Ontology Evolution Framework [7], an approach to ontology evolution that is able to select new concepts on the basis of their contribution to specific computational tasks</td>\n",
              "      <td>1</td>\n",
              "    </tr>\n",
              "    <tr>\n",
              "      <th>4</th>\n",
              "      <td>Ontology-Based Recommendation of Editorial Products. Supporting Springer Nature Editors by means of Semantic Technologies. It works according to three main steps:1) It represents journals, books, and conferences according to the metadata of their chapters/articles and uses the Smart Topic API #AUTHOR_TAG to characterize each of them with a semantically enhanced topic vector</td>\n",
              "      <td>1</td>\n",
              "    </tr>\n",
              "  </tbody>\n",
              "</table>\n",
              "</div>"
            ],
            "text/plain": [
              "                                                                                                                                                                                                                                                                                                                                                                                                                                                                                                                                                  merged_text  citation_influence_label\n",
              "0                                                                                                                                                                                                                                                                                                                                   Ontology-Based Recommendation of Editorial Products. Web search personalization with ontological user profiles. They usually generate user models that describe user interests according to a set of features #AUTHOR_TAG                         0\n",
              "1                                                                                                                                                                                                                                                        Ontology-Based Recommendation of Editorial Products. Exploring Scholarly Data with Rexplore. The Computer Science Ontology (CSO)[3]is a large-scale and granular ontology of research topics that was created automatically by running the Klink-2 algorithm [1]on the Rexplore dataset #AUTHOR_TAG.                         0\n",
              "2                                                                                                                                                                                   Ontology-Based Recommendation of Editorial Products. Klink-2: Integrating Multiple Web Sources to Generate Semantic Topic Networks. In order to do so, we characterized all SN publications according to their associated research topics by exploiting the Computer Science Ontology (CSO), a large-scale automatically generated taxonomy of research areas #AUTHOR_TAG                         0\n",
              "3  Ontology-Based Recommendation of Editorial Products. Forecasting the Spreading of Technologies in Research Communities. This API supports a number of applications, including Smart Book Recommender, Smart Topic Miner [5], the Technology-Topic Framework #AUTHOR_TAG, a system that forecasts the propagation of technologies across research communities, and the Pragmatic Ontology Evolution Framework [7], an approach to ontology evolution that is able to select new concepts on the basis of their contribution to specific computational tasks                         1\n",
              "4                                                                                                                                                                    Ontology-Based Recommendation of Editorial Products. Supporting Springer Nature Editors by means of Semantic Technologies. It works according to three main steps:1) It represents journals, books, and conferences according to the metadata of their chapters/articles and uses the Smart Topic API #AUTHOR_TAG to characterize each of them with a semantically enhanced topic vector                         1"
            ]
          },
          "metadata": {},
          "execution_count": 12
        }
      ]
    },
    {
      "cell_type": "code",
      "metadata": {
        "colab": {
          "base_uri": "https://localhost:8080/",
          "height": 386
        },
        "id": "Pa4qgctjO5Tc",
        "outputId": "fd732d92-d341-49d6-908d-b2547842fead"
      },
      "source": [
        "text_len = [len(txt.split()) for txt in data['merged_text']]\n",
        "sns.displot(text_len, binwidth=5)"
      ],
      "execution_count": null,
      "outputs": [
        {
          "output_type": "execute_result",
          "data": {
            "text/plain": [
              "<seaborn.axisgrid.FacetGrid at 0x7f284a0fd710>"
            ]
          },
          "metadata": {},
          "execution_count": 13
        },
        {
          "output_type": "display_data",
          "data": {
            "image/png": "[encoded data removed]",
            "text/plain": [
              "<Figure size 360x360 with 1 Axes>"
            ]
          },
          "metadata": {
            "needs_background": "light"
          }
        }
      ]
    },
    {
      "cell_type": "code",
      "metadata": {
        "colab": {
          "base_uri": "https://localhost:8080/"
        },
        "id": "eyjm9d9YPD08",
        "outputId": "f762225f-549d-441d-95e2-ed2eb5a2ca3e"
      },
      "source": [
        "data[['merged_text']].shape"
      ],
      "execution_count": null,
      "outputs": [
        {
          "output_type": "execute_result",
          "data": {
            "text/plain": [
              "(3000, 1)"
            ]
          },
          "metadata": {},
          "execution_count": 14
        }
      ]
    },
    {
      "cell_type": "code",
      "metadata": {
        "colab": {
          "base_uri": "https://localhost:8080/",
          "height": 386
        },
        "id": "K7wjmRTQPv6d",
        "outputId": "c3d455a7-eafa-406d-9e16-40ddf3402918"
      },
      "source": [
        "data_1 = data[data['citation_influence_label']==1]\n",
        "text_len1 = [len(txt.split()) for txt in data_1['merged_text']]\n",
        "sns.displot(text_len1, binwidth=5)"
      ],
      "execution_count": null,
      "outputs": [
        {
          "output_type": "execute_result",
          "data": {
            "text/plain": [
              "<seaborn.axisgrid.FacetGrid at 0x7f2849ee5490>"
            ]
          },
          "metadata": {},
          "execution_count": 15
        },
        {
          "output_type": "display_data",
          "data": {
            "image/png": "[encoded data removed]",
            "text/plain": [
              "<Figure size 360x360 with 1 Axes>"
            ]
          },
          "metadata": {
            "needs_background": "light"
          }
        }
      ]
    },
    {
      "cell_type": "code",
      "metadata": {
        "colab": {
          "base_uri": "https://localhost:8080/",
          "height": 386
        },
        "id": "YsM9I8YKQMiY",
        "outputId": "9a625c64-1709-4431-85f4-728fb9bd608d"
      },
      "source": [
        "data_0 = data[data['citation_influence_label']==0]\n",
        "text_len0 = [len(txt.split()) for txt in data_0['merged_text']]\n",
        "sns.displot(text_len0, binwidth=5)"
      ],
      "execution_count": null,
      "outputs": [
        {
          "output_type": "execute_result",
          "data": {
            "text/plain": [
              "<seaborn.axisgrid.FacetGrid at 0x7f284a1a1b10>"
            ]
          },
          "metadata": {},
          "execution_count": 16
        },
        {
          "output_type": "display_data",
          "data": {
            "image/png": "[encoded data removed]",
            "text/plain": [
              "<Figure size 360x360 with 1 Axes>"
            ]
          },
          "metadata": {
            "needs_background": "light"
          }
        }
      ]
    },
    {
      "cell_type": "code",
      "metadata": {
        "id": "QRlUMXAsQRGY",
        "colab": {
          "base_uri": "https://localhost:8080/"
        },
        "outputId": "b301326e-6b78-4bf4-943c-d94e9add509d"
      },
      "source": [
        "import re\n",
        "import nltk\n",
        "from nltk.tokenize import word_tokenize\n",
        "from nltk.corpus import stopwords\n",
        "from nltk.stem import WordNetLemmatizer\n",
        " \n",
        "lemmatizer = WordNetLemmatizer()\n",
        "# nltk.download('wordnet')\n",
        "# nltk.download('stopwords')\n",
        "# nltk.download('punkt')\n",
        "stopwords = stopwords.words('english')\n",
        "\n",
        "class Preprocessing():\n",
        "    def __init__(self):\n",
        "        pass\n",
        "    \n",
        "    def remove_brackets(self, text):\n",
        "\n",
        "        text = re.sub(r'\\([^)]*\\)', '', text)\n",
        "        return text\n",
        "    \n",
        "    def tokenize_text(self, text):\n",
        "        \n",
        "        tokenized_text = word_tokenize(text)\n",
        "        return tokenized_text\n",
        "    \n",
        "    def remove_stopwords(self, text):\n",
        "\n",
        "        final_text = [word for word in text if word not in stopwords]\n",
        "        return final_text\n",
        "    \n",
        "    def lemmatize(self, text):\n",
        "\n",
        "        lemmatized_text = [lemmatizer.lemmatize(word) for word in text]\n",
        "        return lemmatized_text\n",
        "    \n",
        "    def preprocess(self, text):\n",
        "\n",
        "        text = text.replace('#AUTHOR_TAG', ' ')\n",
        "        text = self.remove_brackets(text)\n",
        "        tokenized_text = self.tokenize_text(text)\n",
        "        filtered_text = self.remove_stopwords(tokenized_text)\n",
        "        final_text = self.lemmatize(filtered_text)\n",
        "\n",
        "        return final_text"
      ],
      "execution_count": null,
      "outputs": [
        {
          "output_type": "stream",
          "name": "stdout",
          "text": [
            "[nltk_data] Downloading package wordnet to /root/nltk_data...\n",
            "[nltk_data]   Unzipping corpora/wordnet.zip.\n"
          ]
        }
      ]
    },
    {
      "cell_type": "code",
      "metadata": {
        "colab": {
          "base_uri": "https://localhost:8080/"
        },
        "id": "J2qo3muQvLmL",
        "outputId": "a0da5390-a8af-4efe-ffea-7d27afa36657"
      },
      "source": [
        "preprocessed_data = []\n",
        "labels = []\n",
        "preprocessor = Preprocessing()\n",
        "\n",
        "for i, row in tqdm(data.iterrows()):\n",
        "    final_text = preprocessor.preprocess(row['citation_context'])\n",
        "\n",
        "    preprocessed_data.append(final_text)\n",
        "    labels.append(row['citation_influence_label'])"
      ],
      "execution_count": null,
      "outputs": [
        {
          "output_type": "stream",
          "name": "stderr",
          "text": [
            "3000it [00:03, 806.94it/s] \n"
          ]
        }
      ]
    },
    {
      "cell_type": "code",
      "metadata": {
        "colab": {
          "base_uri": "https://localhost:8080/"
        },
        "id": "RxTT3TCFvmpE",
        "outputId": "1537eac6-ba71-46f5-bc3e-f1d5614d854c"
      },
      "source": [
        "len(preprocessed_data), len(labels)"
      ],
      "execution_count": null,
      "outputs": [
        {
          "output_type": "execute_result",
          "data": {
            "text/plain": [
              "(3000, 3000)"
            ]
          },
          "metadata": {},
          "execution_count": 35
        }
      ]
    },
    {
      "cell_type": "code",
      "metadata": {
        "colab": {
          "base_uri": "https://localhost:8080/"
        },
        "id": "eYR9SOriv59V",
        "outputId": "baaad766-3ea2-4db1-f60d-b1769c5f037b"
      },
      "source": [
        "print(preprocessed_data[5])"
      ],
      "execution_count": null,
      "outputs": [
        {
          "output_type": "stream",
          "name": "stdout",
          "text": [
            "['propose', 'hybrid', 'recommendation', 'model', 'user', 'preference', 'described', 'term', 'semantic', 'concept', 'defined', 'domain', 'ontology']\n"
          ]
        }
      ]
    },
    {
      "cell_type": "code",
      "metadata": {
        "id": "ehke1ETUwD0X"
      },
      "source": [
        ""
      ],
      "execution_count": null,
      "outputs": []
    }
  ]
}